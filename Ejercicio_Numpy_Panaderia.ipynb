{
  "nbformat": 4,
  "nbformat_minor": 0,
  "metadata": {
    "colab": {
      "provenance": [],
      "authorship_tag": "ABX9TyMHfvNJIJ6qcHKM+4IBHTeP",
      "include_colab_link": true
    },
    "kernelspec": {
      "name": "python3",
      "display_name": "Python 3"
    },
    "language_info": {
      "name": "python"
    }
  },
  "cells": [
    {
      "cell_type": "markdown",
      "metadata": {
        "id": "view-in-github",
        "colab_type": "text"
      },
      "source": [
        "<a href=\"https://colab.research.google.com/github/carmeniturbe/ejercicios_DS_Fundamentals/blob/main/Ejercicio_Numpy_Panaderia.ipynb\" target=\"_parent\"><img src=\"https://colab.research.google.com/assets/colab-badge.svg\" alt=\"Open In Colab\"/></a>"
      ]
    },
    {
      "cell_type": "code",
      "execution_count": null,
      "metadata": {
        "colab": {
          "base_uri": "https://localhost:8080/"
        },
        "id": "YbmRLiiaNWIo",
        "outputId": "1b08ec22-d31a-4778-8592-330419e7d278"
      },
      "outputs": [
        {
          "output_type": "stream",
          "name": "stdout",
          "text": [
            "[34 40 10]\n",
            "[1.75 0.5  5.  ]\n",
            "[ 2  1 10  7]\n",
            "[ 2.   1.  10.   7.   4.5  3.   4.   9. ]\n",
            "Arreglo de precios [ 2.   1.  10.   7.   4.5  3.   4. ]\n",
            "[ 2.   1.  12.   7.   4.5  3.   4. ]\n",
            "[17 40  1  2  3 16  5]\n",
            "[17 39  1  2  3 16  5]\n",
            "[34.  39.  12.  14.  13.5 48.  20. ]\n",
            "33.0\n",
            "180.5\n",
            "213.5\n"
          ]
        }
      ],
      "source": [
        "import numpy as np\n",
        "\n",
        "price = [2, 1, 10]\n",
        "type(price)\n",
        "quantity_sold = [17, 40, 1]\n",
        "type(quantity_sold)\n",
        "\n",
        "#Encontrar el dinero recaudado para cada tipo de elemento. Queremos el precio * cantidad para cada elemento.\n",
        "#Tratemos de multiplicar nuestros arrays.\n",
        "\n",
        "price_array = np.array(price)\n",
        "quantity_sold_array = np.array(quantity_sold)\n",
        "type(price_array)\n",
        "dinero_recaudado = price_array * quantity_sold_array\n",
        "print(dinero_recaudado)\n",
        "\n",
        "#Profit: To find the profit of each item, we want to subtract the cost from the price.\n",
        "#A NumPy array will perform the subtraction elementwise as shown:\n",
        "\n",
        "cost_array = np.array([0.25, 0.50, 5.00])\n",
        "profit_array = price_array - cost_array\n",
        "print(profit_array)\n",
        "\n",
        "#Supongamos que quieren identificar qué elementos obtuvieron un beneficio superior a $2 por elemento.\n",
        "#Pueden usar el siguiente código para preguntar si la declaración es True (verdadera) o False (falsa) para cada elemento en el array.\n",
        "\n",
        "profit_array > 2\n",
        "\n",
        "#Adicion: El club también vende tartas por $7, así que debemos actualizar nuestro price_array.\n",
        "\n",
        "price_array = np.append(price_array, 7)\n",
        "print(price_array)\n",
        "\n",
        "#Adicion: El club quiere agregar los siguientes precios:  4,50𝑝𝑜𝑟𝑑𝑢𝑙𝑐𝑒𝑠, 3 por una magdalena,  4𝑝𝑜𝑟𝑢𝑛𝑎𝑏𝑎𝑟𝑟𝑎𝑑𝑒𝑝𝑎𝑛𝑑𝑒𝑝𝑙á𝑡𝑎𝑛𝑜𝑦 9 por una torta.\n",
        "\n",
        "price_array = np.append(price_array, [4.50, 3, 4, 9])\n",
        "print(price_array)\n",
        "\n",
        "#Eliminar y Slicing: Resulta que nadie planea hacer una torta, así que quieren eliminar el precio de ese elemento del array.\n",
        "\n",
        "price_array = np.delete(price_array, -1) #-- Esto era lo que decía la clase\n",
        "print(\"Arreglo de precios\", price_array)\n",
        "\n",
        "#price_array = price_array[:-1] #otra forma - (slicing)\n",
        "#print(price_array)\n",
        "\n",
        "#Reemplazar: Después el club decide subir el precio de los pasteles de  10𝑎 12.\n",
        "#Nuevamente, tendremos que identificar el elemento usando el índice. Los pasteles están en el índice 2.\n",
        "\n",
        "price_array[2] = 12\n",
        "print(price_array)\n",
        "\n",
        "#2) Actualicen el quantity_sold_array para incluir la venta de 2 tartas, 3 bandejas de dulces, 16 magdalenas y 5 panes de plátano.\n",
        "#También se darán cuenta que una de las galletas que pensaron que se había vendido en realidad se cayó al suelo, así que editen quantity_sold_array de 40 a 39.\n",
        "\n",
        "quantity_sold_array = np.append(quantity_sold_array,[2, 3, 16, 5])\n",
        "print(quantity_sold_array)\n",
        "\n",
        "#3) Determinen la cantidad de dinero recaudado de la venta de cada elemento en la venta de la panadería.\n",
        "\n",
        "quantity_sold_array[1] = 39\n",
        "print(quantity_sold_array)\n",
        "\n",
        "total_money_each = price_array * quantity_sold_array\n",
        "print(total_money_each)\n",
        "\n",
        "#4) Creen un array de NumPy \"quantity_leftover\" que incluya la cantidad de cada elemento restante al final de la venta: 2 pasteles, 1 tarta, 6 bandejas de dulces, 2 panes de plátano. Pista: Asegúrense de incluir “0” de cada elemento que se haya vendido.\n",
        "#¿Por qué esto es importante cuando se crea un array? R = Es importante porque cuando intenemos hacer operaciones aritmaticas entre los arrays ambos deben tener la misma cantidad de caracteres\n",
        "\n",
        "quantity_leftover_array = np.array([0, 0, 2, 1, 6, 0, 2])\n",
        "\n",
        "#El club decide vender los elementos restantes a mitad de precio, y todo se venda rápidamente.\n",
        "#Determinen cuanto dinero se recaudó de la venta de liquidación.\n",
        "quantity_sold_sale = (price_array * quantity_leftover_array) / 2\n",
        "total_quantity_sold_sale = np.sum(quantity_sold_sale)\n",
        "print(total_quantity_sold_sale)\n",
        "\n",
        "#5)¿Cuánto dinero total se recaudó de la venta de panadería (incluido la venta del precio total y los elementos liquidados)?\n",
        "\n",
        "total_income = np.sum(total_money_each)\n",
        "print(total_income)\n",
        "\n",
        "print(total_quantity_sold_sale + total_income)\n"
      ]
    }
  ]
}